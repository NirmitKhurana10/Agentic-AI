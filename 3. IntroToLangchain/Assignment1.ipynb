{
 "cells": [
  {
   "cell_type": "markdown",
   "id": "883c6507",
   "metadata": {},
   "source": [
    "### Assignment 1"
   ]
  },
  {
   "cell_type": "markdown",
   "id": "72618db6",
   "metadata": {},
   "source": []
  }
 ],
 "metadata": {
  "language_info": {
   "name": "python"
  }
 },
 "nbformat": 4,
 "nbformat_minor": 5
}
