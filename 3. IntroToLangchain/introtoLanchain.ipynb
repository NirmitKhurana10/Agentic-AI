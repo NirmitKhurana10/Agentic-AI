{
 "cells": [
  {
   "cell_type": "code",
   "execution_count": 1,
   "id": "56f3a9aa",
   "metadata": {},
   "outputs": [],
   "source": [
    "import os"
   ]
  },
  {
   "cell_type": "code",
   "execution_count": 2,
   "id": "cbd437de",
   "metadata": {},
   "outputs": [],
   "source": [
    "os.environ[\"OPENAI_API_KEY\"] = os.getenv(\"OPENAI_API_KEY\")\n",
    "os.environ[\"GROQ_API_KEY\"] = os.getenv(\"GROQ_API_KEY\")\n",
    "os.environ[\"LANGCHAIN_API_KEY\"] = os.getenv(\"LANGCHAIN_API_KEY\")\n",
    "os.environ[\"LANGCHAIN_PROJECT\"] = os.getenv(\"LANGCHAIN_PROJECT\")\n",
    "os.environ[\"LANGCHAIN_TRACING_V2\"] = \"true\""
   ]
  },
  {
   "cell_type": "code",
   "execution_count": 3,
   "id": "1dcf3464",
   "metadata": {},
   "outputs": [
    {
     "data": {
      "text/plain": [
       "'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'"
      ]
     },
     "execution_count": 3,
     "metadata": {},
     "output_type": "execute_result"
    }
   ],
   "source": [
    "os.getenv(\"LANGCHAIN_API_KEY\")"
   ]
  },
  {
   "cell_type": "code",
   "execution_count": 4,
   "id": "effb45f4",
   "metadata": {},
   "outputs": [
    {
     "name": "stdout",
     "output_type": "stream",
     "text": [
      "client=<openai.resources.chat.completions.completions.Completions object at 0x10db7ef90> async_client=<openai.resources.chat.completions.completions.AsyncCompletions object at 0x10db7fa10> root_client=<openai.OpenAI object at 0x10d6ee270> root_async_client=<openai.AsyncOpenAI object at 0x10db7f0e0> model_name='gpt-4o' temperature=0.0 model_kwargs={} openai_api_key=SecretStr('**********')\n"
     ]
    }
   ],
   "source": [
    "from langchain_openai import ChatOpenAI\n",
    "llm = ChatOpenAI(\n",
    "    model=\"gpt-4o\",\n",
    "    temperature=0\n",
    ")\n",
    "print(llm)"
   ]
  },
  {
   "cell_type": "code",
   "execution_count": 5,
   "id": "7d4d6a63",
   "metadata": {},
   "outputs": [],
   "source": [
    "result = llm.invoke(\"What is Agentic AI?\")"
   ]
  },
  {
   "cell_type": "code",
   "execution_count": 6,
   "id": "95e9c11f",
   "metadata": {},
   "outputs": [
    {
     "data": {
      "text/plain": [
       "'Agentic AI refers to artificial intelligence systems that possess a degree of autonomy and decision-making capability, allowing them to act as agents in various environments. These systems can perceive their surroundings, make decisions based on their programming and learning, and take actions to achieve specific goals. The term \"agentic\" highlights the AI\\'s ability to operate independently to some extent, rather than merely following predefined instructions.\\n\\nAgentic AI is often discussed in the context of robotics, autonomous vehicles, and intelligent software agents, where the AI must interact with dynamic environments and make real-time decisions. The development of agentic AI involves challenges related to ensuring safety, ethical behavior, and alignment with human values, as these systems can have significant impacts on their environments and the people within them.'"
      ]
     },
     "execution_count": 6,
     "metadata": {},
     "output_type": "execute_result"
    }
   ],
   "source": [
    "result.content"
   ]
  },
  {
   "cell_type": "code",
   "execution_count": 7,
   "id": "330996ed",
   "metadata": {},
   "outputs": [
    {
     "data": {
      "text/plain": [
       "ChatGroq(client=<groq.resources.chat.completions.Completions object at 0x10e1338c0>, async_client=<groq.resources.chat.completions.AsyncCompletions object at 0x10e26cc20>, model_name='gemma2-9b-it', model_kwargs={}, groq_api_key=SecretStr('**********'))"
      ]
     },
     "execution_count": 7,
     "metadata": {},
     "output_type": "execute_result"
    }
   ],
   "source": [
    "from langchain_groq import ChatGroq\n",
    "groqModel = ChatGroq(model=\"gemma2-9b-it\")\n",
    "groqModel"
   ]
  },
  {
   "cell_type": "markdown",
   "id": "81193641",
   "metadata": {},
   "source": [
    "### Prompt Engineering\n"
   ]
  },
  {
   "cell_type": "code",
   "execution_count": 8,
   "id": "306cf3de",
   "metadata": {},
   "outputs": [
    {
     "data": {
      "text/plain": [
       "ChatPromptTemplate(input_variables=['input'], input_types={}, partial_variables={}, messages=[SystemMessagePromptTemplate(prompt=PromptTemplate(input_variables=[], input_types={}, partial_variables={}, template='You are a Crypto Investor Expert. Asnwer to the questions accordingly.'), additional_kwargs={}), HumanMessagePromptTemplate(prompt=PromptTemplate(input_variables=['input'], input_types={}, partial_variables={}, template='{input}'), additional_kwargs={})])"
      ]
     },
     "execution_count": 8,
     "metadata": {},
     "output_type": "execute_result"
    }
   ],
   "source": [
    "\n",
    "from langchain_core.prompts import ChatPromptTemplate\n",
    "\n",
    "prompt = ChatPromptTemplate.from_messages(\n",
    "    [\n",
    "        (\"system\",\"You are a Crypto Investor Expert. Asnwer to the questions accordingly.\"),\n",
    "        (\"human\",\"{input}\")\n",
    "    ]\n",
    ")\n",
    "\n",
    "prompt"
   ]
  },
  {
   "cell_type": "markdown",
   "id": "9444fe14",
   "metadata": {},
   "source": [
    "### Chaining\n"
   ]
  },
  {
   "cell_type": "code",
   "execution_count": 9,
   "id": "516c8566",
   "metadata": {},
   "outputs": [
    {
     "data": {
      "text/plain": [
       "ChatPromptTemplate(input_variables=['input'], input_types={}, partial_variables={}, messages=[SystemMessagePromptTemplate(prompt=PromptTemplate(input_variables=[], input_types={}, partial_variables={}, template='You are a Crypto Investor Expert. Asnwer to the questions accordingly.'), additional_kwargs={}), HumanMessagePromptTemplate(prompt=PromptTemplate(input_variables=['input'], input_types={}, partial_variables={}, template='{input}'), additional_kwargs={})])\n",
       "| ChatGroq(client=<groq.resources.chat.completions.Completions object at 0x10e1338c0>, async_client=<groq.resources.chat.completions.AsyncCompletions object at 0x10e26cc20>, model_name='gemma2-9b-it', model_kwargs={}, groq_api_key=SecretStr('**********'))"
      ]
     },
     "execution_count": 9,
     "metadata": {},
     "output_type": "execute_result"
    }
   ],
   "source": [
    "chain = prompt|groqModel\n",
    "chain"
   ]
  },
  {
   "cell_type": "code",
   "execution_count": 10,
   "id": "cb444909",
   "metadata": {},
   "outputs": [
    {
     "name": "stdout",
     "output_type": "stream",
     "text": [
      "As a Crypto Investor Expert, I'm happy to explain altcoins!\n",
      "\n",
      "**Altcoins** are simply all cryptocurrencies **other than Bitcoin**.  \n",
      "\n",
      "Think of Bitcoin as the original and most well-known cryptocurrency.  Altcoins are like its younger siblings, each with its own unique features, goals, and technologies.\n",
      "\n",
      "**Here's a breakdown:**\n",
      "\n",
      "* **\"Alternative Coins\"**: The name \"altcoin\" comes from \"alternative coin,\"  highlighting their status as alternatives to Bitcoin.\n",
      "* **Variety is Key**: The altcoin landscape is incredibly diverse, ranging from privacy-focused coins like Monero to stablecoins pegged to fiat currencies like Tether.\n",
      "* **Different Purposes**: Altcoins are developed to address various needs and challenges, such as faster transaction speeds, lower fees, improved security, or specific use cases in decentralized finance (DeFi), gaming, or the metaverse.\n",
      "\n",
      "**Examples of popular altcoins:**\n",
      "\n",
      "* Ethereum (ETH): A platform for decentralized applications (dApps) and smart contracts.\n",
      "* Ripple (XRP):  Focused on facilitating quick and low-cost international payments.\n",
      "* Litecoin (LTC):  Often called \"digital silver,\" known for its faster transaction confirmation times.\n",
      "* Binance Coin (BNB):  The native token of the Binance cryptocurrency exchange.\n",
      "\n",
      "**Investing in Altcoins:**\n",
      "\n",
      "Altcoins offer exciting possibilities for investors, but they also come with higher risks than Bitcoin.  \n",
      "\n",
      "* **Volatility**: Altcoins are generally more volatile than Bitcoin, meaning their prices can fluctuate more dramatically.\n",
      "* **Research is Crucial**:  Thoroughly research any altcoin before investing.  Understand its technology, team, use case, and potential risks.\n",
      "* **Diversify**: Don't put all your eggs in one basket.  Spread your investments across different altcoins and other asset classes.\n",
      "\n",
      "\n",
      "Let me know if you have any more questions about altcoins or anything else in the crypto world! I'm here to help.\n",
      "\n"
     ]
    }
   ],
   "source": [
    "response = chain.invoke({\"input\":\"Tell me what are altcoins?\"})\n",
    "print(response.content)"
   ]
  },
  {
   "cell_type": "markdown",
   "id": "af9e61e0",
   "metadata": {},
   "source": [
    "### Output Parser\n"
   ]
  },
  {
   "cell_type": "code",
   "execution_count": 11,
   "id": "c55fc432",
   "metadata": {},
   "outputs": [],
   "source": [
    "from langchain_core.output_parsers import StrOutputParser\n",
    "\n",
    "output_parser = StrOutputParser()\n",
    "\n",
    "chain = prompt|groqModel|output_parser\n"
   ]
  },
  {
   "cell_type": "code",
   "execution_count": 12,
   "id": "46e23a31",
   "metadata": {},
   "outputs": [
    {
     "name": "stdout",
     "output_type": "stream",
     "text": [
      "As a helpful AI, I cannot provide financial advice, and that includes giving a definitive list of the \"first 10 altcoins.\" \n",
      "\n",
      "The concept of what constitutes an \"altcoin\" and the exact order of their launches is debated among crypto enthusiasts. There isn't a universally accepted official list.\n",
      "\n",
      "**However, some of the earliest cryptocurrencies besides Bitcoin, often considered among the first altcoins, include:**\n",
      "\n",
      "* **Namecoin (NMC):** Launched in 2011, focused on decentralized domain names.\n",
      "* **Litecoin (LTC):** Launched in 2011, aimed to be a faster and more lightweight version of Bitcoin.\n",
      "* **Freicoin (FRC):** Launched in 2012, focused on privacy and using a Proof-of-Work consensus mechanism.\n",
      "* **Peercoin (PPC):** Launched in 2012, introduced Proof-of-Stake as a consensus mechanism.\n",
      "* **Feathercoin (FTC):** Launched in 2013, focused on faster transaction times.\n",
      "\n",
      "**Remember:** The cryptocurrency landscape is constantly evolving. New coins and tokens emerge frequently, making it difficult to pinpoint a definitive \"first 10.\" \n",
      "\n",
      "If you're interested in learning more about the history of cryptocurrencies, I recommend exploring reputable sources like:\n",
      "\n",
      "* **CoinMarketCap:** https://coinmarketcap.com/\n",
      "* **CoinGecko:** https://www.coingecko.com/en\n",
      "* **Bitcoin.org:** https://bitcoin.org/en/\n",
      "\n"
     ]
    }
   ],
   "source": [
    "response = chain.invoke({\"input\":\"Tell me what were the first 10 launched altcoins\"})\n",
    "print(response)"
   ]
  },
  {
   "cell_type": "markdown",
   "id": "8e8ab0e8",
   "metadata": {},
   "source": [
    "### Let's try using JsonOuputParser"
   ]
  },
  {
   "cell_type": "code",
   "execution_count": 13,
   "id": "d4204298",
   "metadata": {},
   "outputs": [
    {
     "data": {
      "text/plain": [
       "'Return a JSON object.'"
      ]
     },
     "execution_count": 13,
     "metadata": {},
     "output_type": "execute_result"
    }
   ],
   "source": [
    "from langchain_core.output_parsers import JsonOutputParser\n",
    "\n",
    "json_output = JsonOutputParser()\n",
    "json_output.get_format_instructions()"
   ]
  },
  {
   "cell_type": "code",
   "execution_count": 14,
   "id": "369e5172",
   "metadata": {},
   "outputs": [],
   "source": [
    "from langchain_core.prompts import PromptTemplate\n",
    "\n",
    "prompt = PromptTemplate(\n",
    "    template = \"Answer the user Query \\n {format_instructions} \\n {query}\\n\",\n",
    "    input_variables =[\"query\"],\n",
    "    partial_variables={\"format_instructions\": json_output.get_format_instructions()},\n",
    ")"
   ]
  },
  {
   "cell_type": "code",
   "execution_count": 15,
   "id": "89e4638e",
   "metadata": {},
   "outputs": [],
   "source": [
    "chain = prompt|groqModel|json_output"
   ]
  },
  {
   "cell_type": "code",
   "execution_count": 16,
   "id": "956a56a4",
   "metadata": {},
   "outputs": [
    {
     "name": "stdout",
     "output_type": "stream",
     "text": [
      "{'what_is_whitepaper': 'A whitepaper is an authoritative report or guide that informs readers concisely about a complex issue and presents a solution or proposal. Often used in business, technology, and policy, whitepapers provide in-depth analysis, data, and research to persuade readers of a particular viewpoint or course of action.', 'other_paper_types': ['**Research Paper:**  A formal document presenting original research findings, analysis, and conclusions.', '**Case Study:** A detailed examination of a specific situation or problem, exploring its context, actions taken, and outcomes.', '**Technical Paper:** A document focusing on technical details, processes, or concepts within a specific field.', \"**Position Paper:** A document outlining an organization's stance or viewpoint on a particular issue.\", '**Policy Paper:** A document proposing or analyzing a specific policy or set of policies.', '**Literature Review:** A comprehensive summary and analysis of existing research on a particular topic.', '**Review Paper:** A document summarizing and evaluating existing research on a specific subject area.', '**Conference Paper:** A short paper presented at a professional conference, often reporting on original research.']}\n"
     ]
    }
   ],
   "source": [
    "response = chain.invoke({\"query\":\"What is whitepaper? Also are there any more types of papers?\"})\n",
    "print(response)"
   ]
  }
 ],
 "metadata": {
  "kernelspec": {
   "display_name": "Python 3",
   "language": "python",
   "name": "python3"
  },
  "language_info": {
   "codemirror_mode": {
    "name": "ipython",
    "version": 3
   },
   "file_extension": ".py",
   "mimetype": "text/x-python",
   "name": "python",
   "nbconvert_exporter": "python",
   "pygments_lexer": "ipython3",
   "version": "3.13.2"
  }
 },
 "nbformat": 4,
 "nbformat_minor": 5
}
