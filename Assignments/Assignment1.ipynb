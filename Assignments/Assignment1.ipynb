{
 "cells": [
  {
   "cell_type": "markdown",
   "id": "883c6507",
   "metadata": {},
   "source": [
    "### Assignment 1"
   ]
  },
  {
   "cell_type": "markdown",
   "id": "72618db6",
   "metadata": {},
   "source": [
    "Create a simple assistant that uses any LLM and should be Pydantic, when we ask about any product it should give you three parts of information. Str(productName), Str(ProductDetails), Int / Float (priceUSD). Use the ChatPrompTemplate"
   ]
  },
  {
   "cell_type": "code",
   "execution_count": 9,
   "id": "fdacea5c",
   "metadata": {},
   "outputs": [],
   "source": [
    "# Putting in all the env variables in the project\n",
    "\n",
    "import os\n",
    "\n",
    "os.environ[\"OPENAI_API_KEY\"] = os.getenv(\"OPENAI_API_KEY\")\n",
    "os.environ[\"GROQ_API_KEY\"] = os.getenv(\"GROQ_API_KEY\")\n",
    "os.environ[\"LANGCHAIN_API_KEY\"] = os.getenv(\"LANGCHAIN_API_KEY\")\n",
    "os.environ[\"LANGCHAIN_PROJECT\"] = \"Assignment_1\"\n",
    "os.environ[\"LANGCHAIN_TRACING_V2\"] = \"true\""
   ]
  },
  {
   "cell_type": "code",
   "execution_count": 14,
   "id": "a6f0cfc9",
   "metadata": {},
   "outputs": [
    {
     "data": {
      "text/plain": [
       "ChatGroq(client=<groq.resources.chat.completions.Completions object at 0x123813ed0>, async_client=<groq.resources.chat.completions.AsyncCompletions object at 0x1238b0910>, model_name='qwen-qwq-32b', temperature=0.2, model_kwargs={}, groq_api_key=SecretStr('**********'))"
      ]
     },
     "execution_count": 14,
     "metadata": {},
     "output_type": "execute_result"
    }
   ],
   "source": [
    "# Initializing the Model. \n",
    "\n",
    "from langchain_groq import ChatGroq\n",
    "model = ChatGroq(model=\"qwen-qwq-32b\", temperature=0.2)\n",
    "model"
   ]
  },
  {
   "cell_type": "code",
   "execution_count": 15,
   "id": "0b462961",
   "metadata": {},
   "outputs": [
    {
     "name": "stdout",
     "output_type": "stream",
     "text": [
      "{'productName': 'PlayStation 5', 'productDetails': 'The PlayStation 5 is a next-generation gaming console featuring a custom AMD Zen 2 processor, AMD RDNA 2 GPU, and a ultra-fast custom SSD for lightning-fast load times. It supports 4K resolution, ray tracing, and offers immersive gaming experiences with backward compatibility for many PlayStation 4 games. Includes the DualSense wireless controller and HD Tempest 3D Audio Technologies for enhanced audio immersion. The console also comes with an HD camera and microphone for social interactions and streaming.', 'priceUSD': 499}\n"
     ]
    }
   ],
   "source": [
    "from langchain_core.prompts import ChatPromptTemplate\n",
    "from langchain_core.output_parsers import JsonOutputParser\n",
    "from pydantic import BaseModel, Field\n",
    "\n",
    "# Defining the output schema\n",
    "class Product(BaseModel):\n",
    "    productName: str = Field(description=\"Name of the Product\")\n",
    "    productDetails: str = Field(description=\"Details of the Product\")\n",
    "    priceUSD: float = Field(gt=0)\n",
    "\n",
    "\n",
    "# Adding a query intented to prompt a language model to populate the data structure.\n",
    "product_query = \"Tell me about the PlayStation 5\"\n",
    "\n",
    "# Setting up a parser + inject instructions into the prompt template.\n",
    "parser = JsonOutputParser(pydantic_object=Product)\n",
    "\n",
    "# Setting up the prompt\n",
    "prompt = ChatPromptTemplate(\n",
    "    [\n",
    "        (\"system\",\"You are ecommerce website where you share the product name, details and price in USD you are asked for in JSON Format\"),\n",
    "        (\"human\",\"{format_instructions} \\n {product_query}\")\n",
    "    ]\n",
    ")\n",
    "\n",
    "# Create the chain\n",
    "chain  = prompt | model | parser\n",
    "\n",
    "\n",
    "# Invoke the chain\n",
    "result = chain.invoke(\n",
    "    {\n",
    "        \"product_query\":product_query,\n",
    "        \"format_instructions\":parser.get_format_instructions()\n",
    "    }\n",
    ")\n",
    "\n",
    "print(result)\n"
   ]
  }
 ],
 "metadata": {
  "kernelspec": {
   "display_name": "Python 3",
   "language": "python",
   "name": "python3"
  },
  "language_info": {
   "codemirror_mode": {
    "name": "ipython",
    "version": 3
   },
   "file_extension": ".py",
   "mimetype": "text/x-python",
   "name": "python",
   "nbconvert_exporter": "python",
   "pygments_lexer": "ipython3",
   "version": "3.13.2"
  }
 },
 "nbformat": 4,
 "nbformat_minor": 5
}
